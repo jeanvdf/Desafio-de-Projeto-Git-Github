{
  "nbformat": 4,
  "nbformat_minor": 0,
  "metadata": {
    "colab": {
      "name": "CursoPython",
      "provenance": [],
      "authorship_tag": "ABX9TyNo8FGplMzzJHvLz9vZeApV",
      "include_colab_link": true
    },
    "kernelspec": {
      "name": "python3",
      "display_name": "Python 3"
    },
    "language_info": {
      "name": "python"
    }
  },
  "cells": [
    {
      "cell_type": "markdown",
      "metadata": {
        "id": "view-in-github",
        "colab_type": "text"
      },
      "source": [
        "<a href=\"https://colab.research.google.com/github/jeanvdf/Desafio-de-Projeto-Git-Github/blob/main/ExerciciosPython/ExerciciosMundo3/ex078MaioreMenorLISTAS.ipynb\" target=\"_parent\"><img src=\"https://colab.research.google.com/assets/colab-badge.svg\" alt=\"Open In Colab\"/></a>"
      ]
    },
    {
      "cell_type": "code",
      "execution_count": null,
      "metadata": {
        "id": "2bwh8OvKZmHh"
      },
      "outputs": [],
      "source": [
        "valores = list()\n",
        "for c in range(0,5):\n",
        "  valores.append(int(input('Digite um Valor: ')))\n",
        "for c, v in enumerate(valores):\n",
        "  if c == 0:\n",
        "    maior = v\n",
        "    posmaior = c\n",
        "    menor = v\n",
        "    posmenor = c\n",
        "  else:\n",
        "    if v > maior:\n",
        "      maior = v\n",
        "      posmaior = c\n",
        "    elif v < menor:\n",
        "      menor = v\n",
        "      posmenor = c\n",
        "print(f'O Maior Valor é {maior}, na {posmaior+1}ª posição.')\n",
        "print(f'O Menor Valor é {menor}, na {posmenor+1}ª posição.')\n"
      ]
    },
    {
      "cell_type": "code",
      "source": [
        ""
      ],
      "metadata": {
        "id": "O1Kh9l_CaFgB"
      },
      "execution_count": null,
      "outputs": []
    }
  ]
}